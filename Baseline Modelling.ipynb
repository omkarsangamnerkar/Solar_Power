{
 "cells": [
  {
   "cell_type": "code",
   "execution_count": 2,
   "id": "8370a8e8",
   "metadata": {},
   "outputs": [],
   "source": [
    "import pandas as pd\n",
    "import numpy as np\n",
    "import matplotlib.pyplot as plt\n",
    "import seaborn as sns\n",
    "import os\n",
    "import warnings\n",
    "warnings.filterwarnings('ignore')\n",
    "\n",
    "\n",
    "from sklearn.preprocessing import MinMaxScaler, LabelEncoder, StandardScaler, OneHotEncoder\n",
    "le = LabelEncoder()\n",
    "oe = OneHotEncoder()\n",
    "scaler = MinMaxScaler()\n",
    "from sklearn.model_selection import train_test_split, StratifiedKFold\n",
    "from sklearn.metrics import mean_squared_error\n",
    "\n",
    "from sklearn.linear_model import LinearRegression\n",
    "from sklearn.tree import DecisionTreeRegressor\n",
    "from sklearn.ensemble import RandomForestRegressor\n",
    "from lightgbm import LGBMRegressor\n",
    "from xgboost import XGBRegressor\n",
    "from catboost import CatBoostRegressor\n",
    "\n",
    "\n",
    "\n",
    "data_path = r'C:\\\\Users\\\\Sunil\\\\Projects\\\\Machine Hack\\\\Wipro\\\\Data\\\\'"
   ]
  },
  {
   "cell_type": "code",
   "execution_count": 3,
   "id": "41e53a47",
   "metadata": {},
   "outputs": [],
   "source": [
    "train = pd.read_csv(data_path + 'train.csv')\n",
    "test = pd.read_csv(data_path + 'test.csv')\n",
    "sample_sub = pd.read_csv(data_path + 'sample_submission.csv')"
   ]
  },
  {
   "cell_type": "code",
   "execution_count": 4,
   "id": "9dbf69d9",
   "metadata": {},
   "outputs": [],
   "source": [
    "train.loc[ (train['Fill Flag'] == 0) | (train['Fill Flag'] > 5), 'Fill Flag'] = 0\n",
    "test.loc[ (test['Fill Flag'] == 0) | (test['Fill Flag'] > 5), 'Fill Flag'] = 0"
   ]
  },
  {
   "cell_type": "code",
   "execution_count": null,
   "id": "7b649bcb",
   "metadata": {},
   "outputs": [],
   "source": []
  },
  {
   "cell_type": "code",
   "execution_count": 5,
   "id": "fd42cd8b",
   "metadata": {},
   "outputs": [],
   "source": [
    "df = pd.concat([train, test], axis = 0).reset_index(drop=True)"
   ]
  },
  {
   "cell_type": "code",
   "execution_count": 6,
   "id": "4e2d49bb",
   "metadata": {},
   "outputs": [
    {
     "data": {
      "text/plain": [
       "(192816, 18)"
      ]
     },
     "execution_count": 6,
     "metadata": {},
     "output_type": "execute_result"
    }
   ],
   "source": [
    "df.shape"
   ]
  },
  {
   "cell_type": "code",
   "execution_count": 7,
   "id": "da60bbe7",
   "metadata": {},
   "outputs": [],
   "source": [
    "# Encoding\n",
    "df = pd.get_dummies(columns=['Cloud Type', 'Fill Flag'], data = df)"
   ]
  },
  {
   "cell_type": "code",
   "execution_count": 8,
   "id": "bbca81e8",
   "metadata": {},
   "outputs": [],
   "source": [
    "train_proc, test_proc = df[:train.shape[0]], df[train.shape[0]:].reset_index(drop = True)\n",
    "\n",
    "targets = ['Clearsky DHI', 'Clearsky GHI', 'Clearsky DNI']\n",
    "features = [col for col in df.columns if col not in targets]"
   ]
  },
  {
   "cell_type": "code",
   "execution_count": null,
   "id": "817e365c",
   "metadata": {},
   "outputs": [],
   "source": []
  },
  {
   "cell_type": "code",
   "execution_count": null,
   "id": "41413baa",
   "metadata": {},
   "outputs": [],
   "source": []
  },
  {
   "cell_type": "code",
   "execution_count": null,
   "id": "5757eed1",
   "metadata": {},
   "outputs": [],
   "source": []
  },
  {
   "cell_type": "code",
   "execution_count": 705,
   "id": "0f3fde73",
   "metadata": {
    "scrolled": false
   },
   "outputs": [
    {
     "name": "stdout",
     "output_type": "stream",
     "text": [
      "Learning rate set to 0.105919\n",
      "0:\tlearn: 58.0409185\ttest: 58.0700287\tbest: 58.0700287 (0)\ttotal: 10.5ms\tremaining: 10.5s\n",
      "200:\tlearn: 13.4844799\ttest: 13.6991834\tbest: 13.6991834 (200)\ttotal: 1.76s\tremaining: 7.01s\n",
      "400:\tlearn: 12.2317085\ttest: 12.7242509\tbest: 12.7242509 (400)\ttotal: 3.51s\tremaining: 5.25s\n",
      "600:\tlearn: 11.3712388\ttest: 12.0544939\tbest: 12.0544939 (600)\ttotal: 5.41s\tremaining: 3.59s\n",
      "800:\tlearn: 10.7495563\ttest: 11.5820654\tbest: 11.5820654 (800)\ttotal: 7.21s\tremaining: 1.79s\n",
      "999:\tlearn: 10.2373443\ttest: 11.1869823\tbest: 11.1869823 (999)\ttotal: 8.98s\tremaining: 0us\n",
      "bestTest = 11.18698234\n",
      "bestIteration = 999\n",
      "Target is Clearsky DHI and mean_squared_error is : 125.14857706795776\n",
      "Learning rate set to 0.105919\n",
      "0:\tlearn: 293.5200289\ttest: 293.7300669\tbest: 293.7300669 (0)\ttotal: 10.5ms\tremaining: 10.5s\n",
      "200:\tlearn: 6.6079293\ttest: 6.7086416\tbest: 6.7086416 (200)\ttotal: 1.83s\tremaining: 7.26s\n",
      "400:\tlearn: 6.0371197\ttest: 6.2276314\tbest: 6.2276314 (400)\ttotal: 3.69s\tremaining: 5.5s\n",
      "600:\tlearn: 5.7037677\ttest: 5.9588494\tbest: 5.9588494 (600)\ttotal: 5.55s\tremaining: 3.69s\n",
      "800:\tlearn: 5.4646347\ttest: 5.7720648\tbest: 5.7720648 (800)\ttotal: 7.31s\tremaining: 1.81s\n",
      "999:\tlearn: 5.2620671\ttest: 5.6236468\tbest: 5.6236468 (999)\ttotal: 9.05s\tremaining: 0us\n",
      "bestTest = 5.62364676\n",
      "bestIteration = 999\n",
      "Target is Clearsky GHI and mean_squared_error is : 31.625455267483243\n",
      "Learning rate set to 0.105919\n",
      "0:\tlearn: 332.0160696\ttest: 332.2693277\tbest: 332.2693277 (0)\ttotal: 10.5ms\tremaining: 10.5s\n",
      "200:\tlearn: 34.1659933\ttest: 34.5478248\tbest: 34.5478248 (200)\ttotal: 1.79s\tremaining: 7.11s\n",
      "400:\tlearn: 31.5700548\ttest: 32.3250427\tbest: 32.3250427 (400)\ttotal: 3.73s\tremaining: 5.57s\n",
      "600:\tlearn: 29.8805718\ttest: 30.9881894\tbest: 30.9881894 (600)\ttotal: 5.58s\tremaining: 3.7s\n",
      "800:\tlearn: 28.5513474\ttest: 29.9881047\tbest: 29.9881047 (800)\ttotal: 7.5s\tremaining: 1.86s\n",
      "999:\tlearn: 27.5355810\ttest: 29.2651811\tbest: 29.2651811 (999)\ttotal: 9.28s\tremaining: 0us\n",
      "bestTest = 29.26518114\n",
      "bestIteration = 999\n",
      "Target is Clearsky DNI and mean_squared_error is : 856.4508711974473\n",
      "Total error is 337.7416345109628\n"
     ]
    }
   ],
   "source": [
    "targets = ['Clearsky DHI', 'Clearsky GHI', 'Clearsky DNI']\n",
    "features = [col for col in df.columns if col not in targets]\n",
    "\n",
    "total_error = 0\n",
    "for i in targets:\n",
    "    target = i\n",
    "    trn, val = train_test_split(train_proc, test_size = 0.2, random_state = 42)\n",
    "\n",
    "    ##### Input for model\n",
    "    X_trn, X_val = trn[features], val[features]\n",
    "\n",
    "    ##### Target column\n",
    "    y_trn, y_val = trn[target], val[target]\n",
    "\n",
    "    ##### Features for test data that we will be predicting\n",
    "    X_test = test_proc[features]\n",
    "    \n",
    "    \n",
    "    model = CatBoostRegressor(random_state=1999, n_estimators=1000, task_type = 'GPU', eval_metric='RMSE')\n",
    "\n",
    "#     model = RandomForestRegressor(random_state=1999, n_estimators=500, n_jobs=-1)\n",
    "    \n",
    "    model.fit(X_trn, y_trn, eval_set=[(X_val, y_val)], verbose = 200, early_stopping_rounds=100)\n",
    "    preds = model.predict(X_val)\n",
    "\n",
    "    error = mean_squared_error(y_val, preds)\n",
    "    \n",
    "    test_preds = model.predict(X_test)\n",
    "    sample_sub[target] = test_preds\n",
    "    test[target] = test_preds\n",
    "    \n",
    "    print(f'Target is {target} and mean_squared_error is : {error}')\n",
    "    \n",
    "    total_error += error\n",
    "\n",
    "print(f\"Total error is {total_error/3}\")"
   ]
  },
  {
   "cell_type": "code",
   "execution_count": 706,
   "id": "e04d3c74",
   "metadata": {},
   "outputs": [],
   "source": [
    "# n = [1, 2, 3, 4, 5, 6, 7, 8, 9]\n",
    "# test['is_0_hour'] = test['Hour'].apply(lambda x: 1 if x in n else 0)\n",
    "# index = test[ test['is_0_hour'] == 1].index\n",
    "\n",
    "# sample_sub.loc[index, 'Clearsky DHI'] = 0\n",
    "# sample_sub.loc[index, 'Clearsky DNI'] = 0\n",
    "# sample_sub.loc[index, 'Clearsky GHI'] = 0\n",
    "\n",
    "# sample_sub.loc[ sample_sub['Clearsky DHI'] < 1, 'Clearsky DHI'] = 0\n",
    "# sample_sub.loc[ sample_sub['Clearsky DNI'] < 1, 'Clearsky DNI'] = 0\n",
    "# sample_sub.loc[ sample_sub['Clearsky GHI'] < 1, 'Clearsky GHI'] = 0"
   ]
  },
  {
   "cell_type": "code",
   "execution_count": 707,
   "id": "15732094",
   "metadata": {},
   "outputs": [],
   "source": [
    "sample_sub.to_csv(data_path + \"Baseline_CAT_USing_DHI_and_GHI_as_Features.csv\", index = False)"
   ]
  },
  {
   "cell_type": "code",
   "execution_count": 722,
   "id": "e6f70d0f",
   "metadata": {},
   "outputs": [
    {
     "data": {
      "text/plain": [
       "791"
      ]
     },
     "execution_count": 722,
     "metadata": {},
     "output_type": "execute_result"
    }
   ],
   "source": [
    "635+125+31"
   ]
  },
  {
   "cell_type": "code",
   "execution_count": 723,
   "id": "2bcf174c",
   "metadata": {},
   "outputs": [
    {
     "data": {
      "text/plain": [
       "263.6666666666667"
      ]
     },
     "execution_count": 723,
     "metadata": {},
     "output_type": "execute_result"
    }
   ],
   "source": [
    "791/3"
   ]
  },
  {
   "cell_type": "code",
   "execution_count": null,
   "id": "d0a7ee0e",
   "metadata": {},
   "outputs": [],
   "source": []
  },
  {
   "cell_type": "code",
   "execution_count": null,
   "id": "63fa566d",
   "metadata": {},
   "outputs": [],
   "source": []
  },
  {
   "cell_type": "code",
   "execution_count": null,
   "id": "c09125c9",
   "metadata": {},
   "outputs": [],
   "source": []
  },
  {
   "cell_type": "code",
   "execution_count": null,
   "id": "29dfcccb",
   "metadata": {},
   "outputs": [],
   "source": []
  },
  {
   "cell_type": "code",
   "execution_count": null,
   "id": "dceb6927",
   "metadata": {},
   "outputs": [],
   "source": []
  },
  {
   "cell_type": "code",
   "execution_count": null,
   "id": "cf73cf63",
   "metadata": {},
   "outputs": [],
   "source": []
  },
  {
   "cell_type": "code",
   "execution_count": null,
   "id": "471ac032",
   "metadata": {},
   "outputs": [],
   "source": []
  },
  {
   "cell_type": "code",
   "execution_count": null,
   "id": "e8a4966b",
   "metadata": {},
   "outputs": [],
   "source": []
  },
  {
   "cell_type": "code",
   "execution_count": null,
   "id": "790369b1",
   "metadata": {},
   "outputs": [],
   "source": []
  },
  {
   "cell_type": "markdown",
   "id": "015e2ab6",
   "metadata": {},
   "source": [
    "---\n",
    "# Feature Engineering"
   ]
  },
  {
   "cell_type": "code",
   "execution_count": 708,
   "id": "23af22fd",
   "metadata": {},
   "outputs": [],
   "source": [
    "train = pd.read_csv(data_path + 'train.csv')\n",
    "test = pd.read_csv(data_path + 'test.csv')\n",
    "# sample_sub = pd.read_csv(data_path + 'sample_submission.csv')"
   ]
  },
  {
   "cell_type": "code",
   "execution_count": 709,
   "id": "ad5c7697",
   "metadata": {},
   "outputs": [],
   "source": [
    "train.loc[ (train['Fill Flag'] == 0) | (train['Fill Flag'] > 5), 'Fill Flag'] = 0\n",
    "test.loc[ (test['Fill Flag'] == 0) | (test['Fill Flag'] > 5), 'Fill Flag'] = 0"
   ]
  },
  {
   "cell_type": "code",
   "execution_count": 710,
   "id": "19962028",
   "metadata": {
    "scrolled": true
   },
   "outputs": [],
   "source": [
    "int8_cols = ['Month', 'Day', 'Hour', 'Minute', 'Cloud Type', 'Fill Flag']\n",
    "int16_cols = ['Year', 'Clearsky DHI', 'Clearsky DNI', 'Clearsky GHI', 'Pressure']\n",
    "test_int16_cols = ['Year', 'Pressure']\n",
    "\n",
    "\n",
    "train[int8_cols] = train[int8_cols].astype('int8')\n",
    "train[int16_cols] = train[int16_cols].astype('int16')\n",
    "\n",
    "test[int8_cols] = test[int8_cols].astype('int8')\n",
    "test[test_int16_cols] = test[test_int16_cols].astype('int16')"
   ]
  },
  {
   "cell_type": "code",
   "execution_count": 711,
   "id": "708a1f8c",
   "metadata": {},
   "outputs": [],
   "source": [
    "def join(train_, test_):\n",
    "    df_ = pd.concat([train_, test_], axis = 0).reset_index(drop=True)\n",
    "    return df_\n",
    "\n",
    "def split(df_):\n",
    "    train_, test_ = df_[:train.shape[0]], df_[train.shape[0]:].reset_index(drop = True)\n",
    "    targets = ['Clearsky DHI', 'Clearsky GHI', 'Clearsky DNI', 'Date']\n",
    "    features_ = [col for col in df_.columns if col not in targets]\n",
    "    \n",
    "    return train_, test_, features_"
   ]
  },
  {
   "cell_type": "markdown",
   "id": "5c5a3cc9",
   "metadata": {},
   "source": [
    "---\n",
    "#### Creating more date features"
   ]
  },
  {
   "cell_type": "code",
   "execution_count": 712,
   "id": "3f74214e",
   "metadata": {},
   "outputs": [],
   "source": [
    "df = join(train, test)\n",
    "\n",
    "df['Date'] = pd.to_datetime(df[['Year', 'Month', 'Day', 'Hour', 'Minute']])\n",
    "df['Week'] = df['Date'].dt.week\n",
    "df['Quarter'] = df['Date'].dt.quarter #805\n",
    "df['day_of_week'] = df['Date'].dt.dayofweek # 773\n",
    "\n",
    "\n",
    "train_proc, test_proc, features = split(df)"
   ]
  },
  {
   "cell_type": "markdown",
   "id": "b99439f8",
   "metadata": {},
   "source": [
    "---\n",
    "#### Zenith Angle Magic"
   ]
  },
  {
   "cell_type": "code",
   "execution_count": 713,
   "id": "a7df7a79",
   "metadata": {},
   "outputs": [],
   "source": [
    "distance = [0.9840, 0.9888, 0.9962, 1.005, 1.0122, 1.0163, 1.0161, 1.0116, 1.0039, 0.9954, 0.9878, 0.9837]\n",
    "month = [i for i in range(1, 13)]\n",
    "\n",
    "md_dict = dict(zip(month, distance))"
   ]
  },
  {
   "cell_type": "code",
   "execution_count": 714,
   "id": "07a9d595",
   "metadata": {},
   "outputs": [],
   "source": [
    "df = join(train_proc, test_proc)\n",
    "\n",
    "#########\n",
    "df['Vertical_distance'] = df.apply(lambda x: (md_dict[x['Month']] * np.cos(x['Solar Zenith Angle'])), axis = 1) # 771\n",
    "\n",
    "##########\n",
    "train_proc, test_proc, features = split(df)"
   ]
  },
  {
   "cell_type": "code",
   "execution_count": 715,
   "id": "0976509b",
   "metadata": {},
   "outputs": [],
   "source": [
    "#### Binning\n",
    "\n",
    "df = join(train_proc, test_proc)\n",
    "\n",
    "df['Hour Bins'] = pd.cut(df[\"Hour\"], bins=3, labels=False) #770\n",
    "\n",
    "train_proc, test_proc, features = split(df)"
   ]
  },
  {
   "cell_type": "markdown",
   "id": "77cb177e",
   "metadata": {},
   "source": [
    "---\n",
    "#### Aggregation"
   ]
  },
  {
   "cell_type": "code",
   "execution_count": 716,
   "id": "c648b60c",
   "metadata": {},
   "outputs": [],
   "source": [
    "df = join(train_proc, test_proc)\n",
    "\n",
    "df['Day_Wise_DNI_Mean'] = df.groupby(['Day'])['Clearsky DNI'].transform('mean') #765\n",
    "df['Week_Wise_DNI_Mean'] = df.groupby(['Week'])['Clearsky DNI'].transform('mean') #743\n",
    "df['Hour_Wise_DNI_Mean'] = df.groupby(['Hour'])['Clearsky DNI'].transform('mean') #736.0352904883216\n",
    "\n",
    "df['Day_Wise_DNI_STD'] = df.groupby(['Day'])['Clearsky DNI'].transform('std') #728\n",
    "df['Week_Wise_DNI_STD'] = df.groupby(['Week'])['Clearsky DNI'].transform('std') #718\n",
    "\n",
    "df['Day_Wise_DNI_Median'] = df.groupby(['Day'])['Clearsky DNI'].transform('median') #714\n",
    "df['Week_Wise_DNI_Median'] = df.groupby(['Week'])['Clearsky DNI'].transform('median') #701\n",
    "\n",
    "\n",
    "\n",
    "df['Hour_Minute_Wise_DNI_Mean'] = df.groupby(['Week', 'Day', 'Hour'])['Clearsky DNI'].transform('mean') #639\n",
    "df['Hour_Minute_Wise_DNI_STD'] = df.groupby(['Week', 'Day', 'Hour'])['Clearsky DNI'].transform('std') #635\n",
    "\n",
    "\n",
    "\n",
    "train_proc, test_proc, features = split(df)"
   ]
  },
  {
   "cell_type": "code",
   "execution_count": 719,
   "id": "68f3778d",
   "metadata": {},
   "outputs": [
    {
     "name": "stdout",
     "output_type": "stream",
     "text": [
      "Learning rate set to 0.105919\n",
      "0:\tlearn: 332.0119459\ttest: 332.2439450\tbest: 332.2439450 (0)\ttotal: 12.1ms\tremaining: 12.1s\n",
      "200:\tlearn: 31.0283912\ttest: 31.4882787\tbest: 31.4882787 (200)\ttotal: 1.88s\tremaining: 7.47s\n",
      "400:\tlearn: 27.9040266\ttest: 28.8922058\tbest: 28.8922058 (400)\ttotal: 3.65s\tremaining: 5.46s\n",
      "600:\tlearn: 25.8680982\ttest: 27.2772836\tbest: 27.2772836 (600)\ttotal: 5.44s\tremaining: 3.61s\n",
      "800:\tlearn: 24.3437745\ttest: 26.1137066\tbest: 26.1137066 (800)\ttotal: 7.23s\tremaining: 1.8s\n",
      "999:\tlearn: 23.1254354\ttest: 25.2086377\tbest: 25.2086377 (999)\ttotal: 9s\tremaining: 0us\n",
      "bestTest = 25.20863768\n",
      "bestIteration = 999\n",
      "Target is Clearsky DNI and mean_squared_error is : 635.4752946702611\n",
      "CPU times: total: 15.8 s\n",
      "Wall time: 9.58 s\n"
     ]
    }
   ],
   "source": [
    "%%time\n",
    "total_error = 0\n",
    "for i in ['Clearsky DNI']:\n",
    "    target = i\n",
    "    trn, val = train_test_split(train_proc, test_size = 0.2, random_state = 42)\n",
    "\n",
    "    ##### Input for model\n",
    "    X_trn, X_val = trn[features], val[features]\n",
    "\n",
    "    ##### Target column\n",
    "    y_trn, y_val = trn[target], val[target]\n",
    "\n",
    "    ##### Features for test data that we will be predicting\n",
    "    X_test = test_proc[features]\n",
    "    \n",
    "    \n",
    "    model = CatBoostRegressor(random_state=1999, n_estimators=1000, task_type = 'GPU', eval_metric='RMSE')\n",
    "#     model = LGBMRegressor(random_state=1999, n_estimators=1000, eval_metric='RMSE')\n",
    "#     model = XGBRegressor(random_state=1999, n_estimators=1000, tree_method = 'gpu_hist', gpu_id=0)\n",
    "    \n",
    "    model.fit(X_trn, y_trn, eval_set=[(X_val, y_val)], verbose = 200, early_stopping_rounds=100)\n",
    "    preds = model.predict(X_val)\n",
    "\n",
    "    error = mean_squared_error(y_val, preds)\n",
    "    \n",
    "    print(f'Target is {target} and mean_squared_error is : {error}')\n",
    "    \n",
    "    test_preds = model.predict(X_test)\n",
    "    sample_sub[target] = test_preds\n",
    "    test[target] = test_preds"
   ]
  },
  {
   "cell_type": "code",
   "execution_count": 663,
   "id": "938a5d1b",
   "metadata": {
    "collapsed": true
   },
   "outputs": [
    {
     "data": {
      "text/plain": [
       "{'Year': 3.0730556089975805,\n",
       " 'Month': 0.4020216097428976,\n",
       " 'Day': 0.7102747887389177,\n",
       " 'Hour': 1.0528424565177585,\n",
       " 'Minute': 0.9127008684861527,\n",
       " 'Cloud Type': 1.3668271625987223,\n",
       " 'Dew Point': 2.7629567115610545,\n",
       " 'Temperature': 0.995741763614101,\n",
       " 'Pressure': 0.3779721716657252,\n",
       " 'Relative Humidity': 1.8370970374821698,\n",
       " 'Solar Zenith Angle': 38.19735526208581,\n",
       " 'Precipitable Water': 11.006240057353597,\n",
       " 'Wind Direction': 0.9642796554032849,\n",
       " 'Wind Speed': 0.7465648027112167,\n",
       " 'Fill Flag': 0.041328436051834436,\n",
       " 'Week': 1.2262699367046448,\n",
       " 'Quarter': 0.008712931915254081,\n",
       " 'day_of_week': 0.6193244379484135,\n",
       " 'Vertical_distance': 0.0726582873442144,\n",
       " 'Hour Bins': 0.04578184354326443,\n",
       " 'Day_Wise_DNI_Mean': 0.3115930391747442,\n",
       " 'Week_Wise_DNI_Mean': 0.723994429119071,\n",
       " 'Hour_Wise_DNI_Mean': 7.457771881303977,\n",
       " 'Day_Wise_DNI_STD': 0.25492165194925304,\n",
       " 'Week_Wise_DNI_STD': 1.1274320678624645,\n",
       " 'Day_Wise_DNI_Median': 0.015802474373511566,\n",
       " 'Week_Wise_DNI_Median': 0.742034235119733,\n",
       " 'Hour_Minute_Wise_DNI_Mean': 18.32734586191922,\n",
       " 'Hour_Minute_Wise_DNI_STD': 4.619098528711389}"
      ]
     },
     "execution_count": 663,
     "metadata": {},
     "output_type": "execute_result"
    }
   ],
   "source": [
    "dict(zip(features, model.feature_importances_))"
   ]
  },
  {
   "cell_type": "code",
   "execution_count": 721,
   "id": "f17ac6c4",
   "metadata": {},
   "outputs": [],
   "source": [
    "sample_sub.to_csv(data_path + \"Baseline_CAT_Using_features_for_only_DNI.csv\", index = False)"
   ]
  },
  {
   "cell_type": "code",
   "execution_count": null,
   "id": "48de147d",
   "metadata": {},
   "outputs": [],
   "source": []
  },
  {
   "cell_type": "code",
   "execution_count": 390,
   "id": "37b2b326",
   "metadata": {},
   "outputs": [
    {
     "data": {
      "text/plain": [
       "<AxesSubplot:>"
      ]
     },
     "execution_count": 390,
     "metadata": {},
     "output_type": "execute_result"
    },
    {
     "data": {
      "image/png": "[encoded data removed]",
      "text/plain": [
       "<Figure size 864x864 with 2 Axes>"
      ]
     },
     "metadata": {
      "needs_background": "light"
     },
     "output_type": "display_data"
    }
   ],
   "source": [
    "plt.figure(figsize = (12, 12))\n",
    "sns.heatmap(train.corr(), square=True, annot=True, fmt=\".1f\")"
   ]
  },
  {
   "cell_type": "code",
   "execution_count": 472,
   "id": "e632dfe5",
   "metadata": {},
   "outputs": [
    {
     "data": {
      "text/plain": [
       "Month\n",
       "1     302.773253\n",
       "2     316.718824\n",
       "3     329.675538\n",
       "4     353.801042\n",
       "5     367.600403\n",
       "6     361.719375\n",
       "7     349.147849\n",
       "8     337.050672\n",
       "9     330.073889\n",
       "10    329.955712\n",
       "11    302.880000\n",
       "12    279.091599\n",
       "Name: Clearsky DNI, dtype: float64"
      ]
     },
     "execution_count": 472,
     "metadata": {},
     "output_type": "execute_result"
    }
   ],
   "source": [
    "train.groupby('Month')['Clearsky DNI'].mean()"
   ]
  },
  {
   "cell_type": "code",
   "execution_count": null,
   "id": "b832182a",
   "metadata": {},
   "outputs": [],
   "source": []
  },
  {
   "cell_type": "code",
   "execution_count": null,
   "id": "ffabb84e",
   "metadata": {},
   "outputs": [],
   "source": []
  },
  {
   "cell_type": "code",
   "execution_count": null,
   "id": "3d3508da",
   "metadata": {},
   "outputs": [],
   "source": []
  },
  {
   "cell_type": "code",
   "execution_count": null,
   "id": "71a80f2b",
   "metadata": {},
   "outputs": [],
   "source": []
  },
  {
   "cell_type": "code",
   "execution_count": null,
   "id": "733f479e",
   "metadata": {},
   "outputs": [],
   "source": []
  },
  {
   "cell_type": "code",
   "execution_count": null,
   "id": "8654bad8",
   "metadata": {},
   "outputs": [],
   "source": []
  },
  {
   "cell_type": "code",
   "execution_count": null,
   "id": "4fef896a",
   "metadata": {},
   "outputs": [],
   "source": []
  },
  {
   "cell_type": "code",
   "execution_count": null,
   "id": "95fd61ca",
   "metadata": {},
   "outputs": [],
   "source": []
  },
  {
   "cell_type": "code",
   "execution_count": null,
   "id": "7f572d47",
   "metadata": {},
   "outputs": [],
   "source": []
  },
  {
   "cell_type": "code",
   "execution_count": null,
   "id": "3a8fcdef",
   "metadata": {},
   "outputs": [],
   "source": []
  },
  {
   "cell_type": "code",
   "execution_count": null,
   "id": "6e6e357f",
   "metadata": {},
   "outputs": [],
   "source": []
  },
  {
   "cell_type": "code",
   "execution_count": null,
   "id": "92dd434e",
   "metadata": {},
   "outputs": [],
   "source": []
  },
  {
   "cell_type": "code",
   "execution_count": null,
   "id": "b0a12f78",
   "metadata": {},
   "outputs": [],
   "source": []
  }
 ],
 "metadata": {
  "kernelspec": {
   "display_name": "Python 3 (ipykernel)",
   "language": "python",
   "name": "python3"
  },
  "language_info": {
   "codemirror_mode": {
    "name": "ipython",
    "version": 3
   },
   "file_extension": ".py",
   "mimetype": "text/x-python",
   "name": "python",
   "nbconvert_exporter": "python",
   "pygments_lexer": "ipython3",
   "version": "3.9.12"
  }
 },
 "nbformat": 4,
 "nbformat_minor": 5
}
