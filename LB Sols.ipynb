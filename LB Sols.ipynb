{
 "cells": [
  {
   "cell_type": "code",
   "execution_count": 1,
   "id": "f08d0a08",
   "metadata": {},
   "outputs": [],
   "source": [
    "import pandas as pd\n",
    "import numpy as np\n",
    "import matplotlib.pyplot as plt\n",
    "import seaborn as sns\n",
    "import os\n",
    "import warnings\n",
    "warnings.filterwarnings('ignore')\n",
    "\n",
    "\n",
    "from sklearn.preprocessing import MinMaxScaler, LabelEncoder, StandardScaler, OneHotEncoder\n",
    "le = LabelEncoder()\n",
    "oe = OneHotEncoder()\n",
    "scaler = MinMaxScaler()\n",
    "from sklearn.model_selection import train_test_split, StratifiedKFold\n",
    "from sklearn.metrics import mean_squared_error\n",
    "\n",
    "from sklearn.linear_model import LinearRegression\n",
    "from sklearn.tree import DecisionTreeRegressor\n",
    "from sklearn.ensemble import RandomForestRegressor\n",
    "from lightgbm import LGBMRegressor\n",
    "from xgboost import XGBRegressor\n",
    "from catboost import CatBoostRegressor\n",
    "\n",
    "\n",
    "\n",
    "data_path = r'C:\\\\Users\\\\Sunil\\\\Projects\\\\Machine Hack\\\\Wipro\\\\Data\\\\'"
   ]
  },
  {
   "cell_type": "code",
   "execution_count": 2,
   "id": "39479692",
   "metadata": {},
   "outputs": [],
   "source": [
    "train = pd.read_csv(data_path + 'train.csv')\n",
    "test = pd.read_csv(data_path + 'test.csv')\n",
    "sample_sub = pd.read_csv(data_path + 'sample_submission.csv')"
   ]
  },
  {
   "cell_type": "code",
   "execution_count": 3,
   "id": "dabbb446",
   "metadata": {},
   "outputs": [],
   "source": [
    "train.loc[ (train['Fill Flag'] == 0) | (train['Fill Flag'] > 5), 'Fill Flag'] = 0\n",
    "test.loc[ (test['Fill Flag'] == 0) | (test['Fill Flag'] > 5), 'Fill Flag'] = 0"
   ]
  },
  {
   "cell_type": "code",
   "execution_count": 4,
   "id": "b60e9df6",
   "metadata": {},
   "outputs": [],
   "source": [
    "int8_cols = ['Month', 'Day', 'Hour', 'Minute', 'Cloud Type', 'Fill Flag']\n",
    "int16_cols = ['Year', 'Clearsky DHI', 'Clearsky DNI', 'Clearsky GHI', 'Pressure']\n",
    "test_int16_cols = ['Year', 'Pressure']\n",
    "\n",
    "\n",
    "train[int8_cols] = train[int8_cols].astype('int8')\n",
    "train[int16_cols] = train[int16_cols].astype('int16')\n",
    "\n",
    "test[int8_cols] = test[int8_cols].astype('int8')\n",
    "test[test_int16_cols] = test[test_int16_cols].astype('int16')"
   ]
  },
  {
   "cell_type": "code",
   "execution_count": 5,
   "id": "7db5f387",
   "metadata": {},
   "outputs": [],
   "source": [
    "def join(train_, test_):\n",
    "    df_ = pd.concat([train_, test_], axis = 0).reset_index(drop=True)\n",
    "    return df_\n",
    "\n",
    "def split(df_):\n",
    "    train_, test_ = df_[:train.shape[0]], df_[train.shape[0]:].reset_index(drop = True)\n",
    "    targets = ['Clearsky DHI', 'Clearsky GHI', 'Clearsky DNI', 'Date']\n",
    "    features_ = [col for col in df_.columns if col not in targets]\n",
    "    \n",
    "    return train_, test_, features_"
   ]
  },
  {
   "cell_type": "code",
   "execution_count": 20,
   "id": "da97285a",
   "metadata": {},
   "outputs": [],
   "source": [
    "df = join(train, test)\n",
    "\n",
    "df['Date'] = pd.to_datetime(df[['Year', 'Month', 'Day', 'Hour', 'Minute']])\n",
    "df['Week'] = df['Date'].dt.week\n",
    "df['Quarter'] = df['Date'].dt.quarter #805\n",
    "df['day_of_week'] = df['Date'].dt.dayofweek # 773\n",
    "\n",
    "#######\n",
    "distance = [0.9840, 0.9888, 0.9962, 1.005, 1.0122, 1.0163, 1.0161, 1.0116, 1.0039, 0.9954, 0.9878, 0.9837]\n",
    "month = [i for i in range(1, 13)]\n",
    "md_dict = dict(zip(month, distance))\n",
    "df['Vertical_distance'] = df.apply(lambda x: (md_dict[x['Month']] * np.cos(x['Solar Zenith Angle'])), axis = 1) # 771\n",
    "#######\n",
    "\n",
    "df['Hour Bins'] = pd.cut(df[\"Hour\"], bins=3, labels=False) #770\n",
    "\n",
    "#######\n",
    "df['b'] = df['Relative Humidity'] - df['Relative Humidity'].shift(48)\n",
    "df['e'] = df['Solar Zenith Angle'] - df['Solar Zenith Angle'].shift(48)\n",
    "df['Temperature Trnd'] = df['Temperature'] - df['Temperature'].shift(1) \n",
    "df['Solar Zenith Angle Trnd'] = df['Solar Zenith Angle'] - df['Solar Zenith Angle'].shift(1) \n",
    "df['Relative Humidity Trnd'] = df['Relative Humidity'] - df['Relative Humidity'].shift(1) \n",
    "df['Precipitable Water Trnd'] = df['Precipitable Water'] - df['Precipitable Water'].shift(48) \n",
    "df['Dew Point Trnd'] = df['Dew Point'] - df['Dew Point'].shift(48) \n",
    "df['Wind Speed Trnd'] = df['Wind Speed'] - df['Wind Speed'].shift(1) \n",
    "df['Fill Flag Trnd'] = (df['Fill Flag']+1) / (df['Fill Flag'].shift(1)+1)\n",
    "df['Pressure / Solar Zenith Angle'] = df['Pressure'] / df['Solar Zenith Angle']\n",
    "df['Temperature / Solar Zenith Angle'] = df['Temperature'] / df['Solar Zenith Angle']\n",
    "df['Dew Point * Temperature'] = df['Dew Point'] * df['Temperature']\n",
    "\n",
    "#762\n",
    "#######\n",
    "df['rolling_mean_sa'] = df['Solar Zenith Angle'].rolling(window=6).mean()\n",
    "df['rolling_mean_tmp'] = df['Temperature'].rolling(window=6).mean()\n",
    "df['rolling_mean_ws'] = df['Wind Speed'].rolling(window=6).mean()\n",
    "df['rolling_mean_dp'] = df['Dew Point'].rolling(window=6).mean()\n",
    "df['rolling_mean_ca'] = df['Dew Point'].rolling(window=6).mean()\n",
    "\n",
    "#759\n",
    "#######\n",
    "df['2_diff'] = df['Solar Zenith Angle'].diff(periods=2)\n",
    "df['3_diff'] = df['Solar Zenith Angle'].diff(periods=3)\n",
    "df['4_diff'] = df['Solar Zenith Angle'].diff(periods=4)\n",
    "df['2_diff_tmp'] = df['Temperature'].diff(periods=2)\n",
    "df['3_diff_tmp'] = df['Temperature'].diff(periods=3)\n",
    "df['4_diff_tmp'] = df['Temperature'].diff(periods=4)\n",
    "df['2_diff_ws'] = df['Wind Speed'].diff(periods=2)\n",
    "df['3_diff_ws'] = df['Wind Speed'].diff(periods=3)\n",
    "df['4_diff_ws'] = df['Wind Speed'].diff(periods=4)\n",
    "\n",
    "train_proc, test_proc, features = split(df)"
   ]
  },
  {
   "cell_type": "code",
   "execution_count": 21,
   "id": "634faf4e",
   "metadata": {},
   "outputs": [
    {
     "name": "stdout",
     "output_type": "stream",
     "text": [
      "Learning rate set to 0.105919\n",
      "0:\tlearn: 332.0083610\ttest: 332.2481207\tbest: 332.2481207 (0)\ttotal: 11.4ms\tremaining: 11.4s\n",
      "200:\tlearn: 32.7376230\ttest: 33.0598586\tbest: 33.0598586 (200)\ttotal: 2.05s\tremaining: 8.14s\n",
      "400:\tlearn: 30.0253921\ttest: 30.7770649\tbest: 30.7770649 (400)\ttotal: 4.07s\tremaining: 6.08s\n",
      "600:\tlearn: 28.1137077\ttest: 29.3789850\tbest: 29.3789850 (600)\ttotal: 6.04s\tremaining: 4.01s\n",
      "800:\tlearn: 26.6763982\ttest: 28.3695451\tbest: 28.3695451 (800)\ttotal: 8.01s\tremaining: 1.99s\n",
      "999:\tlearn: 25.5094665\ttest: 27.5789258\tbest: 27.5789258 (999)\ttotal: 9.95s\tremaining: 0us\n",
      "bestTest = 27.57892579\n",
      "bestIteration = 999\n",
      "Target is Clearsky DNI and mean_squared_error is : 760.5972359697549\n",
      "CPU times: total: 17.7 s\n",
      "Wall time: 10.7 s\n"
     ]
    }
   ],
   "source": [
    "%%time\n",
    "total_error = 0\n",
    "for i in ['Clearsky DNI']:\n",
    "    target = i\n",
    "    trn, val = train_test_split(train_proc, test_size = 0.2, random_state = 42)\n",
    "\n",
    "    ##### Input for model\n",
    "    X_trn, X_val = trn[features], val[features]\n",
    "\n",
    "    ##### Target column\n",
    "    y_trn, y_val = trn[target], val[target]\n",
    "\n",
    "    ##### Features for test data that we will be predicting\n",
    "    X_test = test_proc[features]\n",
    "    \n",
    "    \n",
    "    model = CatBoostRegressor(random_state=1999, n_estimators=1000, task_type = 'GPU', eval_metric='RMSE')\n",
    "    \n",
    "    model.fit(X_trn, y_trn, eval_set=[(X_val, y_val)], verbose = 200, early_stopping_rounds=100)\n",
    "    preds = model.predict(X_val)\n",
    "\n",
    "    error = mean_squared_error(y_val, preds)\n",
    "    \n",
    "    print(f'Target is {target} and mean_squared_error is : {error}')\n",
    "    \n",
    "    test_preds = model.predict(X_test)\n",
    "    sample_sub[target] = test_preds\n",
    "    test[target] = test_preds"
   ]
  },
  {
   "cell_type": "code",
   "execution_count": null,
   "id": "64e57f59",
   "metadata": {},
   "outputs": [],
   "source": []
  }
 ],
 "metadata": {
  "kernelspec": {
   "display_name": "Python 3 (ipykernel)",
   "language": "python",
   "name": "python3"
  },
  "language_info": {
   "codemirror_mode": {
    "name": "ipython",
    "version": 3
   },
   "file_extension": ".py",
   "mimetype": "text/x-python",
   "name": "python",
   "nbconvert_exporter": "python",
   "pygments_lexer": "ipython3",
   "version": "3.9.12"
  }
 },
 "nbformat": 4,
 "nbformat_minor": 5
}
